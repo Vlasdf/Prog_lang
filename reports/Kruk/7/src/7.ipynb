{
 "cells": [
  {
   "cell_type": "code",
   "execution_count": 3,
   "id": "d4db7045",
   "metadata": {},
   "outputs": [],
   "source": [
    "import numpy as np\n",
    "from PIL import Image\n",
    "import math\n",
    "from scipy.stats import multivariate_normal\n",
    "from numba import njit"
   ]
  },
  {
   "cell_type": "code",
   "execution_count": 37,
   "id": "eeb291b2",
   "metadata": {},
   "outputs": [],
   "source": [
    "matrix =[[1, 0, 1],\n",
    "         [2, 0, 2],\n",
    "         [3, 0, 3],\n",
    "         [4, 4, 4]]\n",
    "def numpy_1(matrix):\n",
    "    matrix = np.array(matrix)\n",
    "    return matrix.diagonal()[matrix.diagonal() != 0].prod()\n",
    "\n",
    "def standart_1(matrix):\n",
    "    res = 1\n",
    "    for ind, m in enumerate(matrix):\n",
    "        if len(m) <= ind:\n",
    "            return res\n",
    "        res *= m[ind] if m[ind] != 0 else 1\n",
    "    return res\n",
    "\n",
    "@njit\n",
    "def numba_1():\n",
    "    matrix =[[1, 0, 1],\n",
    "         [2, 0, 2],\n",
    "         [3, 0, 3],\n",
    "         [4, 4, 4]]\n",
    "    res = 1\n",
    "    for ind, m in enumerate(matrix):\n",
    "        if len(m) <= ind:\n",
    "            return res\n",
    "        res *= m[ind] if m[ind] != 0 else 1\n",
    "    return res"
   ]
  },
  {
   "cell_type": "code",
   "execution_count": 38,
   "id": "77454f87",
   "metadata": {},
   "outputs": [
    {
     "name": "stdout",
     "output_type": "stream",
     "text": [
      "6.6 µs ± 34.4 ns per loop (mean ± std. dev. of 7 runs, 100000 loops each)\n",
      "537 ns ± 2.73 ns per loop (mean ± std. dev. of 7 runs, 1000000 loops each)\n",
      "685 ns ± 4.04 ns per loop (mean ± std. dev. of 7 runs, 1000000 loops each)\n"
     ]
    }
   ],
   "source": [
    "%timeit numpy_1(matrix)\n",
    "%timeit standart_1(matrix)\n",
    "%timeit numba_1()"
   ]
  },
  {
   "cell_type": "code",
   "execution_count": 11,
   "id": "c3d18992",
   "metadata": {},
   "outputs": [],
   "source": [
    "def numpy_2():\n",
    "    x = np.array([[9, 4, 2], [6, 0, 0], [9, 9, 3]])\n",
    "    i = np.array([1, 2, 1])\n",
    "    j = np.array([1, 0, 1])\n",
    "    return x[i, j]\n",
    "\n",
    "def standart_2():\n",
    "    x = [[9, 4, 2], [6, 0, 0], [9, 9, 3]]\n",
    "    i = [1, 2, 1]\n",
    "    j = [1, 0, 1]\n",
    "    return [x[i[ind]][j[ind]] for ind in range(len(i))]\n",
    "\n",
    "@njit\n",
    "def numba_2():\n",
    "    x = [[9, 4, 2], [6, 0, 0], [9, 9, 3]]\n",
    "    i = [1, 2, 1]\n",
    "    j = [1, 0, 1]\n",
    "    return [x[i[ind]][j[ind]] for ind in range(len(i))]"
   ]
  },
  {
   "cell_type": "code",
   "execution_count": 12,
   "id": "621aab60",
   "metadata": {},
   "outputs": [
    {
     "name": "stdout",
     "output_type": "stream",
     "text": [
      "6.49 µs ± 74.8 ns per loop (mean ± std. dev. of 7 runs, 100000 loops each)\n",
      "792 ns ± 11.9 ns per loop (mean ± std. dev. of 7 runs, 1000000 loops each)\n",
      "1.18 µs ± 18.6 ns per loop (mean ± std. dev. of 7 runs, 1000000 loops each)\n"
     ]
    }
   ],
   "source": [
    "%timeit numpy_2()\n",
    "%timeit standart_2()\n",
    "%timeit numba_2()"
   ]
  },
  {
   "cell_type": "code",
   "execution_count": 13,
   "id": "efae3c9a",
   "metadata": {},
   "outputs": [],
   "source": [
    "def numpy_3():\n",
    "    x = np.array([1, 2, 2, 4])\n",
    "    y = np.array([4, 2, 1, 2])\n",
    "    x.sort()\n",
    "    y.sort()\n",
    "    return all(x == y)\n",
    "\n",
    "def standart_3():\n",
    "    X, Y = [1, 2, 2, 4], [4, 2, 1, 2]\n",
    "    return set(sorted(X)) == set(sorted(Y))\n",
    "\n",
    "@njit\n",
    "def numba_3():\n",
    "    X, Y = [1, 2, 2, 4], [4, 2, 1, 2]\n",
    "    return set(sorted(X)) == set(sorted(Y))"
   ]
  },
  {
   "cell_type": "code",
   "execution_count": 14,
   "id": "b9a0e779",
   "metadata": {},
   "outputs": [
    {
     "name": "stdout",
     "output_type": "stream",
     "text": [
      "3.69 µs ± 109 ns per loop (mean ± std. dev. of 7 runs, 100000 loops each)\n",
      "709 ns ± 19.6 ns per loop (mean ± std. dev. of 7 runs, 1000000 loops each)\n",
      "The slowest run took 8.77 times longer than the fastest. This could mean that an intermediate result is being cached.\n",
      "4.97 µs ± 5.86 µs per loop (mean ± std. dev. of 7 runs, 1 loop each)\n"
     ]
    }
   ],
   "source": [
    "%timeit numpy_3()\n",
    "%timeit standart_3()\n",
    "%timeit numba_3()"
   ]
  },
  {
   "cell_type": "code",
   "execution_count": 15,
   "id": "f455d47b",
   "metadata": {},
   "outputs": [],
   "source": [
    "def numpy_4():\n",
    "    x = np.array([6, 2, 0, 3, 0, 0, 5, 0, 7])\n",
    "    return x[1:][(x == 0)[:-1]].max()\n",
    "    \n",
    "def standart_4():\n",
    "    x = [6, 2, 0, 3, 0, 0, 5, 7, 0]\n",
    "    y = [x[ind + 1] for ind in range(len(x) - 1) if x[ind] == 0]\n",
    "    return max(y)\n",
    "\n",
    "@njit\n",
    "def numba_4():\n",
    "    x = [6, 2, 0, 3, 0, 0, 5, 7, 0]\n",
    "    y = [x[ind + 1] for ind in range(len(x) - 1) if x[ind] == 0]\n",
    "    return max(y)"
   ]
  },
  {
   "cell_type": "code",
   "execution_count": 16,
   "id": "df1da2f2",
   "metadata": {},
   "outputs": [
    {
     "name": "stdout",
     "output_type": "stream",
     "text": [
      "5.17 µs ± 48.6 ns per loop (mean ± std. dev. of 7 runs, 100000 loops each)\n",
      "849 ns ± 7.86 ns per loop (mean ± std. dev. of 7 runs, 1000000 loops each)\n",
      "The slowest run took 19.00 times longer than the fastest. This could mean that an intermediate result is being cached.\n",
      "1.94 µs ± 3.09 µs per loop (mean ± std. dev. of 7 runs, 1 loop each)\n"
     ]
    }
   ],
   "source": [
    "%timeit numpy_4()\n",
    "%timeit standart_4()\n",
    "%timeit numba_4()"
   ]
  },
  {
   "cell_type": "code",
   "execution_count": 22,
   "id": "ea45fea4",
   "metadata": {},
   "outputs": [],
   "source": [
    "def numpy_5():\n",
    "    myImage = Image.open('Images/image.jpg')\n",
    "    np_im, grey = np.array(myImage), np.array([0.299, 0.587, 0.114])\n",
    "    new_image = Image.fromarray(np.dot(np_im, grey))\n",
    "    return new_image\n",
    "    \n",
    "def standart_5():\n",
    "    myImage = Image.open('Images/image.jpg')\n",
    "    pixels = myImage.load()\n",
    "    width, height = myImage.size\n",
    "    for x in range(width):\n",
    "        for y in range(height):\n",
    "            R, G, B = pixels[x, y]\n",
    "            S = round(0.299 * R + 0.587 * G + 0.114 * B)\n",
    "            myImage.putpixel((x, y), (S, S, S))\n",
    "    return myImage\n",
    "\n",
    "def outher_5():\n",
    "    myImage = Image.open('Images/image.jpg')\n",
    "    pixels = np.array(myImage)\n",
    "    height, width = len(pixels), len(pixels[0])\n",
    "    for x in range(height):\n",
    "        for y in range(width):\n",
    "            S = round(0.299 * pixels[x, y][0] + 0.587 * pixels[x, y][1] + 0.114 * pixels[x, y][2])\n",
    "            pixels[x, y] = [S, S, S]\n",
    "    myImage = Image.fromarray(pixels)\n",
    "    return myImage"
   ]
  },
  {
   "cell_type": "code",
   "execution_count": 23,
   "id": "3ee53a4a",
   "metadata": {
    "scrolled": true
   },
   "outputs": [
    {
     "name": "stdout",
     "output_type": "stream",
     "text": [
      "34.1 ms ± 467 µs per loop (mean ± std. dev. of 7 runs, 10 loops each)\n",
      "1.04 s ± 8.03 ms per loop (mean ± std. dev. of 7 runs, 1 loop each)\n",
      "6.87 s ± 129 ms per loop (mean ± std. dev. of 7 runs, 1 loop each)\n"
     ]
    }
   ],
   "source": [
    "%timeit numpy_5()\n",
    "%timeit standart_5()\n",
    "%timeit outher_5()"
   ]
  },
  {
   "cell_type": "code",
   "execution_count": 24,
   "id": "a3e583d1",
   "metadata": {},
   "outputs": [],
   "source": [
    "def numpy_6():\n",
    "    x = np.array([2, 2, 2, 3, 3, 5])\n",
    "    return np.unique(np.array(x), return_counts=True)\n",
    "    \n",
    "def standart_6():\n",
    "    x = [2, 2, 2, 3, 3, 5]\n",
    "    values = list(set(x))\n",
    "    return [values, [x.count(value) for value in values]]\n",
    "\n",
    "@njit\n",
    "def numba_6():\n",
    "    x = [2, 2, 2, 3, 3, 5]\n",
    "    values = list(set(x))\n",
    "    return [values, [x.count(value) for value in values]]"
   ]
  },
  {
   "cell_type": "code",
   "execution_count": 25,
   "id": "132715ab",
   "metadata": {},
   "outputs": [
    {
     "name": "stdout",
     "output_type": "stream",
     "text": [
      "13.7 µs ± 78.3 ns per loop (mean ± std. dev. of 7 runs, 100000 loops each)\n",
      "796 ns ± 12.8 ns per loop (mean ± std. dev. of 7 runs, 1000000 loops each)\n",
      "The slowest run took 12.73 times longer than the fastest. This could mean that an intermediate result is being cached.\n",
      "3.24 µs ± 4.4 µs per loop (mean ± std. dev. of 7 runs, 1 loop each)\n"
     ]
    }
   ],
   "source": [
    "%timeit numpy_6()\n",
    "%timeit standart_6()\n",
    "%timeit numba_6()"
   ]
  },
  {
   "cell_type": "code",
   "execution_count": 26,
   "id": "3148fd58",
   "metadata": {},
   "outputs": [],
   "source": [
    "def numpy_7():\n",
    "    x = np.array([2, 7, 6, 6, 9, 6, 3, 4, 9])\n",
    "    y = np.array([1, 0, 0, 7, 2, 2, 4, 3, 0])\n",
    "    return np.linalg.norm(x - y)\n",
    "    \n",
    "def standart_7():\n",
    "    x = [2, 7, 6, 6, 9, 6, 3, 4, 9]\n",
    "    y = [1, 0, 0, 7, 2, 2, 4, 3, 0]\n",
    "    return math.sqrt(sum([(x[ind] - y[ind]) ** 2 for ind in range(len(x))]))\n",
    "\n",
    "@njit\n",
    "def numba_7():\n",
    "    x = [2, 7, 6, 6, 9, 6, 3, 4, 9]\n",
    "    y = [1, 0, 0, 7, 2, 2, 4, 3, 0]\n",
    "    return math.sqrt(sum([(x[ind] - y[ind]) ** 2 for ind in range(len(x))]))"
   ]
  },
  {
   "cell_type": "code",
   "execution_count": 27,
   "id": "f6721b04",
   "metadata": {
    "scrolled": true
   },
   "outputs": [
    {
     "name": "stdout",
     "output_type": "stream",
     "text": [
      "7.23 µs ± 43 ns per loop (mean ± std. dev. of 7 runs, 100000 loops each)\n",
      "2.75 µs ± 48.4 ns per loop (mean ± std. dev. of 7 runs, 100000 loops each)\n",
      "The slowest run took 10.43 times longer than the fastest. This could mean that an intermediate result is being cached.\n",
      "1.81 µs ± 2.24 µs per loop (mean ± std. dev. of 7 runs, 1 loop each)\n"
     ]
    }
   ],
   "source": [
    "%timeit numpy_7()\n",
    "%timeit standart_7()\n",
    "%timeit numba_7()"
   ]
  },
  {
   "cell_type": "code",
   "execution_count": 4,
   "id": "a5349dd6",
   "metadata": {},
   "outputs": [],
   "source": [
    "N, D = 5, 6\n",
    "X, cov, m = np.random.rand(N, D), np.random.rand(D, D), np.random.rand(D)\n",
    "\n",
    "def numpy_8():\n",
    "    return np.random.multivariate_normal(mean = m, cov = cov)\n",
    "\n",
    "def scipy_8():\n",
    "     return [multivariate_normal(mean = 1, cov = 1).pdf(x) for x in X]"
   ]
  },
  {
   "cell_type": "code",
   "execution_count": 6,
   "id": "ecb2fac7",
   "metadata": {},
   "outputs": [
    {
     "name": "stderr",
     "output_type": "stream",
     "text": [
      "C:\\Users\\NeRpi\\AppData\\Local\\Temp/ipykernel_5904/1735947520.py:5: RuntimeWarning: covariance is not positive-semidefinite.\n",
      "  return np.random.multivariate_normal(mean = m, cov = cov)\n"
     ]
    },
    {
     "name": "stdout",
     "output_type": "stream",
     "text": [
      "209 µs ± 16.8 µs per loop (mean ± std. dev. of 7 runs, 1000 loops each)\n",
      "1.41 ms ± 17.9 µs per loop (mean ± std. dev. of 7 runs, 1000 loops each)\n"
     ]
    }
   ],
   "source": [
    "%timeit numpy_8()\n",
    "%timeit scipy_8()"
   ]
  },
  {
   "cell_type": "code",
   "execution_count": null,
   "id": "312c3a7b",
   "metadata": {},
   "outputs": [],
   "source": []
  }
 ],
 "metadata": {
  "kernelspec": {
   "display_name": "Python 3 (ipykernel)",
   "language": "python",
   "name": "python3"
  },
  "language_info": {
   "codemirror_mode": {
    "name": "ipython",
    "version": 3
   },
   "file_extension": ".py",
   "mimetype": "text/x-python",
   "name": "python",
   "nbconvert_exporter": "python",
   "pygments_lexer": "ipython3",
   "version": "3.9.8"
  }
 },
 "nbformat": 4,
 "nbformat_minor": 5
}
