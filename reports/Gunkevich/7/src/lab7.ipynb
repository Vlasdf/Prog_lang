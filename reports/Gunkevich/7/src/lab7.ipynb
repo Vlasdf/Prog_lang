{
 "cells": [
  {
   "cell_type": "raw",
   "id": "c49cb1fc",
   "metadata": {},
   "source": [
    "# Задание 1\n",
    "Подсчитать произведение ненулевых элементов на диагонали прямоугольной матрицы"
   ]
  },
  {
   "cell_type": "code",
   "execution_count": 1,
   "id": "3a7cb3bc",
   "metadata": {},
   "outputs": [
    {
     "name": "stdout",
     "output_type": "stream",
     "text": [
      "15.4 µs ± 794 ns per loop (mean ± std. dev. of 7 runs, 100000 loops each)\n",
      "1.33 µs ± 54.9 ns per loop (mean ± std. dev. of 7 runs, 1000000 loops each)\n",
      "951 ns ± 34.4 ns per loop (mean ± std. dev. of 7 runs, 1000000 loops each)\n",
      "3\n"
     ]
    }
   ],
   "source": [
    "from functools import reduce\n",
    "import numpy as np\n",
    "\n",
    "#numpy\n",
    "x = np.array([[1, 0, 1], [2, 0, 2], [3, 0, 3], [4, 4, 4]])\n",
    "%timeit np.prod(np.diag(x)[np.diag(x)!=0])\n",
    "\n",
    "#без numpy\n",
    "x = [[1, 0, 1], [2, 0, 2], [3, 0, 3], [4, 4, 4]]\n",
    "%timeit reduce(lambda x, y: x*y,[x[i][i] for i in range(len(x[0])) if x[i][i]!=0])\n",
    "\n",
    "x = [[1, 0, 1], [2, 0, 2], [3, 0, 3], [4, 4, 4]]\n",
    "def red(x):\n",
    "    ret = 1\n",
    "    for i in range(len(x[0])):\n",
    "        if x[i][i]!=0:\n",
    "            ret *= x[i][i]\n",
    "    return ret\n",
    "%timeit red(x)\n",
    "print(red(x))"
   ]
  },
  {
   "cell_type": "raw",
   "id": "ccd427e8",
   "metadata": {},
   "source": [
    "# Задание 2\n",
    "Построить вектор np.array([X[i[0], j[0]], X[i[1], j[1]], . . . , X[i[N-1], j[N-1]]])."
   ]
  },
  {
   "cell_type": "code",
   "execution_count": 2,
   "id": "75349c05",
   "metadata": {},
   "outputs": [
    {
     "name": "stdout",
     "output_type": "stream",
     "text": [
      "28.4 µs ± 404 ns per loop (mean ± std. dev. of 7 runs, 10000 loops each)\n",
      "1.04 µs ± 39.8 ns per loop (mean ± std. dev. of 7 runs, 1000000 loops each)\n",
      "1.27 µs ± 76 ns per loop (mean ± std. dev. of 7 runs, 1000000 loops each)\n",
      "[0, 9, 0]\n"
     ]
    }
   ],
   "source": [
    "import numpy as np\n",
    "\n",
    "#с numpy\n",
    "x = np.array([[9, 4, 2], [6, 0, 0], [9, 9, 3]])\n",
    "i = np.array([1, 2, 1])\n",
    "j = np.array([1, 0, 1])\n",
    "%timeit x[i, j]\n",
    "\n",
    "#без numpy\n",
    "x = [[9, 4, 2], [6, 0, 0], [9, 9, 3]]\n",
    "i = [1, 2, 1]\n",
    "j = [1, 0, 1]\n",
    "%timeit [x[i[k]][j[k]] for k in range(len(i))]\n",
    "\n",
    "ret = []\n",
    "%timeit for k in range(len(i)): ret.append(x[i[k]][j[k]])\n",
    "print([x[i[k]][j[k]] for k in range(len(i))])"
   ]
  },
  {
   "cell_type": "raw",
   "id": "98f91ba6",
   "metadata": {},
   "source": [
    "# Задание 3\n",
    "Проверить, задают ли одно и то же мультимножество"
   ]
  },
  {
   "cell_type": "code",
   "execution_count": 3,
   "id": "77e4aca4",
   "metadata": {},
   "outputs": [
    {
     "name": "stdout",
     "output_type": "stream",
     "text": [
      "10.7 µs ± 472 ns per loop (mean ± std. dev. of 7 runs, 100000 loops each)\n",
      "339 ns ± 17.3 ns per loop (mean ± std. dev. of 7 runs, 1000000 loops each)\n",
      "3.92 µs ± 340 ns per loop (mean ± std. dev. of 7 runs, 100000 loops each)\n"
     ]
    }
   ],
   "source": [
    "import numpy as np\n",
    "\n",
    "#с numpy\n",
    "x = np.array([1, 2, 2, 4])\n",
    "y = np.array([4, 2, 1, 2])\n",
    "%timeit np.array_equal(np.sort(x),np.sort(y))\n",
    "\n",
    "#без numpy\n",
    "x = [1, 2, 2, 4]\n",
    "y = [4, 2, 1, 2]\n",
    "%timeit x.sort()==y.sort()\n",
    "\n",
    "def true(x, y):\n",
    "    ret = []\n",
    "    for i in range(len(x)):\n",
    "        for j in range(len(y)):\n",
    "            if x[i] == y[j]:\n",
    "                ret.append(True)\n",
    "                break\n",
    "            elif j+1 == len(y):\n",
    "                ret.append(False)\n",
    "    return ret  \n",
    "%timeit all(true(x,y))"
   ]
  },
  {
   "cell_type": "raw",
   "id": "bf2e959c",
   "metadata": {},
   "source": [
    "# Задание 4\n",
    "Найти максимальный элемент в векторе x среди элементов, перед которыми стоит нулевой"
   ]
  },
  {
   "cell_type": "code",
   "execution_count": 7,
   "id": "0913096b",
   "metadata": {},
   "outputs": [
    {
     "name": "stdout",
     "output_type": "stream",
     "text": [
      "8.17 µs ± 313 ns per loop (mean ± std. dev. of 7 runs, 100000 loops each)\n",
      "1.93 µs ± 111 ns per loop (mean ± std. dev. of 7 runs, 100000 loops each)\n",
      "1.42 µs ± 51.8 ns per loop (mean ± std. dev. of 7 runs, 1000000 loops each)\n"
     ]
    }
   ],
   "source": [
    "import numpy as np\n",
    "\n",
    "#с numpy\n",
    "x = np.array([6, 2, 0, 3, 0, 0, 5, 7, 0])\n",
    "%timeit np.max(x[1:][(x==0)[:-1]])\n",
    "\n",
    "#без numpy\n",
    "x = [6, 2, 0, 3, 0, 0, 5, 7, 0]\n",
    "%timeit max(x[i] for i in range(1, len(x)) if not x[i-1])\n",
    "\n",
    "def fun(x):\n",
    "    ret = []\n",
    "    for i in range(1, len(x)):\n",
    "        if not x[i-1]:\n",
    "            ret.append(x[i])\n",
    "    return ret\n",
    "%timeit max(fun(x))"
   ]
  },
  {
   "cell_type": "raw",
   "id": "b7ea849c",
   "metadata": {},
   "source": [
    "# Задание 5\n",
    "Преобразуйте цветное изображение в оттенки серого, использовав коэффициенты np.array([0.299, 0.587,0.114])."
   ]
  },
  {
   "cell_type": "code",
   "execution_count": 6,
   "id": "42507bb7",
   "metadata": {},
   "outputs": [
    {
     "name": "stdout",
     "output_type": "stream",
     "text": [
      "15.4 ms ± 855 µs per loop (mean ± std. dev. of 7 runs, 100 loops each)\n",
      "349 µs ± 27.8 µs per loop (mean ± std. dev. of 7 runs, 1000 loops each)\n"
     ]
    },
    {
     "name": "stderr",
     "output_type": "stream",
     "text": [
      "Lossy conversion from float64 to uint8. Range [242.40790000000226, 497.40790000000266]. Convert image to uint8 prior to saving to suppress this warning.\n"
     ]
    },
    {
     "name": "stdout",
     "output_type": "stream",
     "text": [
      "8.53 ms ± 358 µs per loop (mean ± std. dev. of 7 runs, 100 loops each)\n"
     ]
    }
   ],
   "source": [
    "import numpy as np\n",
    "import imageio\n",
    "from PIL import Image\n",
    "\n",
    "img = Image.open('/Users/Lenovo/Desktop/ysOov6veH6w.jpg')\n",
    "\n",
    "#с numpy\n",
    "color = np.array([0.2989, 0.587, 0.114])\n",
    "def fun(img, color):\n",
    "    arr = np.asarray(img, dtype='uint8')\n",
    "    new_img = Image.fromarray(np.dot(arr[...,:3], color))\n",
    "    return new_img\n",
    "\n",
    "%timeit fun(img, color)\n",
    "\n",
    "#без numpy\n",
    "%timeit img.convert(\"L\")\n",
    "color = [0.2989, 0.587, 0.114]\n",
    "img = imageio.imread('/Users/Lenovo/Desktop/ysOov6veH6w.jpg')\n",
    "img = img.astype('float64')\n",
    "%timeit for i in range(len(img)): img[i] += color\n",
    "imageio.imwrite('/Users/Lenovo/Desktop/ysOov6veH6w-gray.jpg', img[:,:,0])\n",
    "\n",
    "\n",
    "\n"
   ]
  },
  {
   "cell_type": "raw",
   "id": "9fc999a0",
   "metadata": {},
   "source": [
    "# Задание 6\n",
    "Реализовать кодирование длин серий (Run-length encoding). Необходимо вернуть кортеж из двух векторов одинаковой длины. Первый содержит числа, а второй - сколько раз их нужно повторить."
   ]
  },
  {
   "cell_type": "code",
   "execution_count": 6,
   "id": "296d9db7",
   "metadata": {},
   "outputs": [
    {
     "name": "stdout",
     "output_type": "stream",
     "text": [
      "25.7 µs ± 1.46 µs per loop (mean ± std. dev. of 7 runs, 10000 loops each)\n",
      "2.25 µs ± 162 ns per loop (mean ± std. dev. of 7 runs, 100000 loops each)\n",
      "2.57 µs ± 136 ns per loop (mean ± std. dev. of 7 runs, 100000 loops each)\n"
     ]
    }
   ],
   "source": [
    "import numpy as np\n",
    "from itertools import groupby\n",
    "\n",
    "#с numpy\n",
    "x = np.array([2, 2, 2, 3, 3, 3, 5])\n",
    "def fun(seq):\n",
    "    ret = np.append(np.where(seq[1:] != seq[:-1]), len(seq) - 1)\n",
    "    count = np.diff(np.append(-1, ret))\n",
    "    return (ret,count)\n",
    "%timeit fun(x)\n",
    "\n",
    "x = [2, 2, 2, 3, 3, 3, 5]\n",
    "\n",
    "#без numpy\n",
    "def fun1(seq):\n",
    "    ret = ([seq[0]],[])\n",
    "    count = 1\n",
    "    j = 0\n",
    "    for i in range(1,len(seq)):\n",
    "        if seq[i] == ret[0][j]:\n",
    "            count += 1\n",
    "        else :\n",
    "            ret[0].append(seq[i])\n",
    "            ret[1].append(count)\n",
    "            j += 1\n",
    "            count = 1\n",
    "    ret[1].append(count)\n",
    "    return ret\n",
    "%timeit fun1(x)\n",
    "\n",
    "def fun2(seq):\n",
    "    ret = ([],[])\n",
    "    for x, group in groupby(seq):\n",
    "        ret[0].append(x)\n",
    "        ret[1].append(len(tuple(group)))\n",
    "    return ret\n",
    "%timeit fun2(x)"
   ]
  },
  {
   "cell_type": "raw",
   "id": "4c0bc4ec",
   "metadata": {},
   "source": [
    "# Задание 7\n",
    "Вычислить матрицу евклидовых расстояний между объектами."
   ]
  },
  {
   "cell_type": "code",
   "execution_count": 3,
   "id": "3c314ed4",
   "metadata": {},
   "outputs": [
    {
     "name": "stdout",
     "output_type": "stream",
     "text": [
      "5.76 µs ± 303 ns per loop (mean ± std. dev. of 7 runs, 100000 loops each)\n",
      "14.4 µs ± 486 ns per loop (mean ± std. dev. of 7 runs, 100000 loops each)\n",
      "437 ns ± 5.78 ns per loop (mean ± std. dev. of 7 runs, 1000000 loops each)\n",
      "15.329709716755891\n"
     ]
    }
   ],
   "source": [
    "import numpy as np\n",
    "from scipy.spatial import distance\n",
    "import math\n",
    "\n",
    "#с numpy\n",
    "x = np.array([2, 7, 6, 6, 9, 6, 3, 4, 9])\n",
    "y = np.array([1, 0, 0, 7, 2, 2, 4, 3, 0])\n",
    "%timeit np.sqrt(np.dot(x-y, x-y))\n",
    "\n",
    "x = [2, 7, 6, 6, 9, 6, 3, 4, 9]\n",
    "y = [1, 0, 0, 7, 2, 2, 4, 3, 0]\n",
    "#с scipy\n",
    "%timeit distance.euclidean(x, y)\n",
    "#с чистым python\n",
    "%timeit math.dist(x, y)\n",
    "print(math.dist(x, y))"
   ]
  },
  {
   "cell_type": "raw",
   "id": "977aca68",
   "metadata": {},
   "source": [
    "# Задание 8\n",
    "Реализовать функцию вычисления логарифма плотности многомерного нормального распределения."
   ]
  },
  {
   "cell_type": "code",
   "execution_count": 5,
   "id": "5b4554e3",
   "metadata": {},
   "outputs": [
    {
     "name": "stdout",
     "output_type": "stream",
     "text": [
      "332 µs ± 13.4 µs per loop (mean ± std. dev. of 7 runs, 1000 loops each)\n",
      "-5.054836210528194\n"
     ]
    }
   ],
   "source": [
    "import numpy as np\n",
    "import scipy.sparse as sp\n",
    "import scipy.sparse.linalg as spln\n",
    "# covariance matrix\n",
    "sigma = np.array([[2.3, 0, 0, 0],\n",
    "           [0, 1.5, 0, 0],\n",
    "           [0, 0, 1.7, 0],\n",
    "           [0, 0,   0, 2]\n",
    "          ])\n",
    "# mean vector\n",
    "mu = np.array([2,3,8,10])\n",
    "\n",
    "# input\n",
    "x = np.array([2.1,3.5,8, 9.5])\n",
    "\n",
    "def lognormpdf(x,mu,S):\n",
    "    nx = len(S)\n",
    "    norm_coeff = nx*np.log(2*np.pi)+np.linalg.slogdet(S)[1]\n",
    "    err = x-mu\n",
    "    numerator = spln.spsolve(S, err).T.dot(err)\n",
    "    return -0.5*(norm_coeff+numerator)\n",
    "%timeit lognormpdf(x, mu, sigma)\n",
    "print (lognormpdf(x, mu, sigma))"
   ]
  },
  {
   "cell_type": "code",
   "execution_count": null,
   "id": "0dad8be4",
   "metadata": {},
   "outputs": [],
   "source": []
  }
 ],
 "metadata": {
  "kernelspec": {
   "display_name": "Python 3 (ipykernel)",
   "language": "python",
   "name": "python3"
  },
  "language_info": {
   "codemirror_mode": {
    "name": "ipython",
    "version": 3
   },
   "file_extension": ".py",
   "mimetype": "text/x-python",
   "name": "python",
   "nbconvert_exporter": "python",
   "pygments_lexer": "ipython3",
   "version": "3.10.1"
  }
 },
 "nbformat": 4,
 "nbformat_minor": 5
}
